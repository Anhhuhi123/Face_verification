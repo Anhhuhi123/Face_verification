{
 "cells": [
  {
   "cell_type": "code",
   "execution_count": null,
   "id": "b8767892",
   "metadata": {},
   "outputs": [
    {
     "ename": "",
     "evalue": "",
     "output_type": "error",
     "traceback": [
      "\u001b[1;31mThe Kernel crashed while executing code in the current cell or a previous cell. \n",
      "\u001b[1;31mPlease review the code in the cell(s) to identify a possible cause of the failure. \n",
      "\u001b[1;31mClick <a href='https://aka.ms/vscodeJupyterKernelCrash'>here</a> for more info. \n",
      "\u001b[1;31mView Jupyter <a href='command:jupyter.viewOutput'>log</a> for further details."
     ]
    }
   ],
   "source": [
    "import cv2\n",
    "import face_recognition\n",
    "import pickle\n",
    "\n",
    "# Đường dẫn tới tệp chứa các encoding đã được lưu\n",
    "ENCODINGS_PATH = \"encoding.pickle\"\n",
    "\n",
    "# Đường dẫn đến video cần kiểm tra\n",
    "VIDEO_PATH = \"/Users/macbook/Desktop/Face_Verification/test_video/IMG_9755_converted.mp4\"\n",
    "\n",
    "# Load encodings\n",
    "data = pickle.load(open(ENCODINGS_PATH, \"rb\"))\n",
    "\n",
    "# Mở video\n",
    "video_capture = cv2.VideoCapture(VIDEO_PATH)\n",
    "\n",
    "# Kiểm tra xem video có mở thành công không\n",
    "if not video_capture.isOpened():\n",
    "    print(\"Error: Could not open video.\")\n",
    "    exit()\n",
    "\n",
    "# Hàm cập nhật khung hình trong video\n",
    "def update_frame(frame):\n",
    "    rgb_frame = cv2.cvtColor(frame, cv2.COLOR_BGR2RGB)\n",
    "    \n",
    "    # Phát hiện các khuôn mặt trong khung hình\n",
    "    boxes = face_recognition.face_locations(rgb_frame, model=\"hog\")\n",
    "    encodings = face_recognition.face_encodings(rgb_frame, boxes)\n",
    "\n",
    "    for (box, encoding) in zip(boxes, encodings):\n",
    "        matches = face_recognition.compare_faces(data[\"encodings\"], encoding, tolerance=0.4)\n",
    "        name = \"Unknown\"\n",
    "\n",
    "        # Nếu có sự trùng khớp với encoding trong dataset\n",
    "        if True in matches:\n",
    "            matchedIdxs = [i for (i, b) in enumerate(matches) if b]\n",
    "            counts = {}\n",
    "\n",
    "            for i in matchedIdxs:\n",
    "                name = data[\"names\"][i]\n",
    "                counts[name] = counts.get(name, 0) + 1\n",
    "\n",
    "            # Lấy tên của người có nhiều sự trùng khớp nhất\n",
    "            name = max(counts, key=counts.get)\n",
    "\n",
    "        # Vẽ bounding box và tên lên khung hình\n",
    "        top, right, bottom, left = box\n",
    "        cv2.rectangle(frame, (left, top), (right, bottom), (0, 255, 0), 2)\n",
    "        cv2.putText(frame, name, (left, top - 10), cv2.FONT_HERSHEY_SIMPLEX, 0.75, (0, 255, 0), 2)\n",
    "\n",
    "    return frame\n",
    "\n",
    "# Lặp qua từng khung hình video và cập nhật liên tục\n",
    "while True:\n",
    "    ret, frame = video_capture.read()\n",
    "    if not ret:\n",
    "        break  # Nếu không còn khung hình, thoát khỏi vòng lặp\n",
    "\n",
    "    # Cập nhật khung hình với kết quả nhận diện khuôn mặt\n",
    "    updated_frame = update_frame(frame)\n",
    "\n",
    "    # Hiển thị khung hình trong cửa sổ OpenCV\n",
    "    cv2.imshow(\"Video\", updated_frame)\n",
    "\n",
    "    # Dừng lại khi nhấn phím 'q' để thoát\n",
    "    if cv2.waitKey(1) & 0xFF == ord('q'):\n",
    "        break\n",
    "\n",
    "# Giải phóng tài nguyên\n",
    "video_capture.release()\n",
    "cv2.destroyAllWindows()  # Đóng tất cả cửa sổ OpenCV\n"
   ]
  }
 ],
 "metadata": {
  "kernelspec": {
   "display_name": "myenv",
   "language": "python",
   "name": "python3"
  },
  "language_info": {
   "codemirror_mode": {
    "name": "ipython",
    "version": 3
   },
   "file_extension": ".py",
   "mimetype": "text/x-python",
   "name": "python",
   "nbconvert_exporter": "python",
   "pygments_lexer": "ipython3",
   "version": "3.8.10"
  }
 },
 "nbformat": 4,
 "nbformat_minor": 5
}
